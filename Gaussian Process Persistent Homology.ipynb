{
 "cells": [
  {
   "cell_type": "markdown",
   "metadata": {},
   "source": [
    "## Gaussian Process Persistent Homology\n",
    "\n",
    "This notebook deals with persistent homology based on the Wasserstein distance between Gaussian Processes fit to time series."
   ]
  },
  {
   "cell_type": "code",
   "execution_count": 1,
   "metadata": {},
   "outputs": [],
   "source": [
    "%matplotlib inline \n",
    "import pandas as pd\n",
    "import numpy as np\n",
    "import scipy.linalg as sl\n",
    "import GPy\n",
    "import dionysus as d\n",
    "import matplotlib.pyplot as plt\n",
    "from itertools import combinations\n",
    "import pymysql\n",
    "from sqlalchemy import create_engine\n",
    "import tqdm\n",
    "import sys\n",
    "\n",
    "engine = create_engine('mysql+pymysql://alcuin:@localhost:3306/ztf', echo = False)"
   ]
  },
  {
   "cell_type": "markdown",
   "metadata": {},
   "source": [
    "### Distance between two time series\n",
    "\n",
    "Consider two time series $\\{t_i, y_i\\}$, for $i = 1, \\ldots, n_1$, and $\\{t'_j, y'_j\\}$, for $j = 1, \\ldots, n_2$, and a prior GP $f \\sim \\cal{GP}(m, k)$ with mean function $m$ and kernel function $k$. We define a set of uniformly sampled times $\\{t^*_k\\}$ for $k = 1, \\ldots, m$ over the time range for which $f$ is defined and then compute the posterior distributions over this: $Y_1 \\sim (f | t_i, y_i, t^*_k)$ and $Y_2 \\sim (f | t'_j, y'_j, t^*_k)$. The squared 2-Wasserstein distance between the two GPs is given by (Mallasto & Feragen 2017):\n",
    "\n",
    "$ W^2_2(Y_1, Y_2) = d_2^2(m_1, m_2) + Tr\\left(K_1 + K_2 - 2(K_1^{1/2} K_2 K_1^{1/2})^{1/2}\\right)$"
   ]
  },
  {
   "cell_type": "code",
   "execution_count": 2,
   "metadata": {},
   "outputs": [],
   "source": [
    "def GPFit(t, y, yerr, kern = 'OU'):\n",
    "  # Fit GP model\n",
    "  kern = GPy.kern.OU(1) + GPy.kern.White(1)\n",
    "  yp = y - y.mean()\n",
    "  m = GPy.models.GPHeteroscedasticRegression(t[:, None], yp[:, None], kern)\n",
    "  m['.*het_Gauss.variance'] = abs(yerr ** 2.)[:, None] # Set the noise parameters to the error in Y\n",
    "  m.het_Gauss.variance.fix() # We can fix the noise term, since we already know it\n",
    "  m.optimize()\n",
    "  return m\n",
    "\n",
    "\n",
    "def wass2(k1, k2):\n",
    "  # Squared Wasserstein-2 distance between two Gaussian processes with zero means\n",
    "  # Note that this is symmetrical: W2^2(k1, k2) = W2^2(k2, k1)\n",
    "  assert k1.shape == k2.shape, \"k1 and k2 must have the same dimensionality\"\n",
    "  k1sqrt = sl.sqrtm(k1)  \n",
    "  kp = k1sqrt @ (k2 @ k1sqrt)\n",
    "  k = k1 + k2 - 2. * sl.sqrtm(kp)\n",
    "  return np.trace(k)\n",
    "\n",
    "\n",
    "def dist(data1, data2, tk):\n",
    "  # Fit a GP to two time series and determine the distance therefrom\n",
    "  gp1 = GPFit(data1[0], data1[1], data1[2])\n",
    "  gp2 = GPFit(data2[0], data2[1], data2[2])\n",
    "  mu1, covar1 = gp1._raw_predict(tk[:, None], full_cov = True)\n",
    "  mu2, covar2 = gp2._raw_predict(tk[:, None], full_cov = True)\n",
    "  return wass2(covar1, covar2)"
   ]
  },
  {
   "cell_type": "markdown",
   "metadata": {},
   "source": [
    "### Distance matrix for a set of time series\n",
    "\n",
    "For a set of time series, it is inefficient to recalculate the GP for individual time series to determine elements in the distance matrix for the set. However, $W_2$ is only dependent on the posterior covariance matrix of the uniform time sampling $t^*_k$."
   ]
  },
  {
   "cell_type": "code",
   "execution_count": 8,
   "metadata": {},
   "outputs": [],
   "source": [
    "DATA_DIR = {'crts': '/Users/mjg/Projects/data/crts/'}\n",
    "\n",
    "def getData(id, survey = 'crts'):\n",
    "  field = str(id)[:7]\n",
    "  raw = pd.read_csv(f'{DATA_DIR[survey]}/{field}/{str(id)}.dat', delim_whitespace = True, \n",
    "                  header = None, names = ['mjd', 'mag', 'magerr'])\n",
    "  data = raw.to_numpy().T\n",
    "  return data\n",
    "\n",
    "\n",
    "def get_tk(ts_set, survey = 'crts', len_tk = 1000):\n",
    "  tmin, tmax = 100000., 0.\n",
    "  for i, x in ts_set.iterrows():\n",
    "    field = str(x['id'])[:7]\n",
    "    raw = pd.read_csv(f\"{DATA_DIR[survey]}/{field}/{str(x['id'])}.dat\", delim_whitespace = True, \n",
    "                     header = None, names = ['mjd', 'mag', 'magerr'])\n",
    "    tmin = min(tmin, raw['mjd'].min())\n",
    "    tmax = max(tmax, raw['mjd'].max())\n",
    "  tk = np.linspace(tmin, tmax, len_tk)\n",
    "  return tk"
   ]
  },
  {
   "cell_type": "code",
   "execution_count": 9,
   "metadata": {},
   "outputs": [
    {
     "name": "stderr",
     "output_type": "stream",
     "text": [
      "51it [00:22,  2.24it/s]\n"
     ]
    }
   ],
   "source": [
    "query = 'select id from qso.flare17'\n",
    "res = pd.read_sql_query(query, engine)\n",
    "covar = {} \n",
    "tk = get_tk(res, len_tk = 100)\n",
    "for i, x in tqdm.tqdm(res.iterrows()):\n",
    "  data = getData(x['id'])\n",
    "  gp = GPFit(data[0], data[1], data[2])\n",
    "  covar[x['id']] = gp._raw_predict(tk[:, None], full_cov = True)"
   ]
  },
  {
   "cell_type": "code",
   "execution_count": 10,
   "metadata": {},
   "outputs": [
    {
     "name": "stderr",
     "output_type": "stream",
     "text": [
      "100%|██████████| 50/50 [00:02<00:00, 21.26it/s]\n",
      "100%|██████████| 49/49 [00:02<00:00, 20.87it/s]\n",
      "100%|██████████| 48/48 [00:02<00:00, 20.62it/s]\n",
      "100%|██████████| 47/47 [00:02<00:00, 19.47it/s]\n",
      "100%|██████████| 46/46 [00:02<00:00, 18.03it/s]\n",
      "100%|██████████| 45/45 [00:02<00:00, 18.17it/s]\n",
      "100%|██████████| 44/44 [00:02<00:00, 18.41it/s]\n",
      "100%|██████████| 43/43 [00:02<00:00, 19.21it/s]\n",
      " 79%|███████▊  | 33/42 [00:01<00:00, 21.53it/s] /opt/anaconda3/lib/python3.7/site-packages/ipykernel_launcher.py:5: ComplexWarning:Casting complex values to real discards the imaginary part\n",
      "100%|██████████| 42/42 [00:01<00:00, 21.32it/s]\n",
      "100%|██████████| 41/41 [00:02<00:00, 18.52it/s]\n",
      "100%|██████████| 40/40 [00:02<00:00, 18.44it/s]\n",
      "100%|██████████| 39/39 [00:02<00:00, 18.22it/s]\n",
      "100%|██████████| 38/38 [00:02<00:00, 18.51it/s]\n",
      "100%|██████████| 37/37 [00:01<00:00, 20.67it/s]\n",
      "100%|██████████| 36/36 [00:01<00:00, 18.57it/s]\n",
      "100%|██████████| 35/35 [00:01<00:00, 18.32it/s]\n",
      "100%|██████████| 34/34 [00:01<00:00, 18.15it/s]\n",
      "100%|██████████| 33/33 [00:01<00:00, 17.92it/s]\n",
      "100%|██████████| 32/32 [00:01<00:00, 17.81it/s]\n",
      "100%|██████████| 31/31 [00:01<00:00, 18.15it/s]\n",
      "100%|██████████| 30/30 [00:01<00:00, 21.05it/s]\n",
      "100%|██████████| 29/29 [00:01<00:00, 18.91it/s]\n",
      "100%|██████████| 28/28 [00:01<00:00, 17.60it/s]\n",
      "100%|██████████| 27/27 [00:01<00:00, 17.43it/s]\n",
      "100%|██████████| 26/26 [00:01<00:00, 17.46it/s]\n",
      "100%|██████████| 25/25 [00:01<00:00, 17.56it/s]\n",
      "100%|██████████| 24/24 [00:01<00:00, 18.21it/s]\n",
      "100%|██████████| 23/23 [00:01<00:00, 18.09it/s]\n",
      "100%|██████████| 22/22 [00:01<00:00, 19.49it/s]\n",
      "100%|██████████| 21/21 [00:01<00:00, 17.81it/s]\n",
      "100%|██████████| 20/20 [00:01<00:00, 19.85it/s]\n",
      "100%|██████████| 19/19 [00:01<00:00, 18.29it/s]\n",
      "100%|██████████| 18/18 [00:00<00:00, 18.14it/s]\n",
      "100%|██████████| 17/17 [00:00<00:00, 19.97it/s]\n",
      "100%|██████████| 16/16 [00:00<00:00, 18.08it/s]\n",
      "100%|██████████| 15/15 [00:00<00:00, 17.99it/s]\n",
      "100%|██████████| 14/14 [00:00<00:00, 17.85it/s]\n",
      "100%|██████████| 13/13 [00:00<00:00, 18.37it/s]\n",
      "100%|██████████| 12/12 [00:00<00:00, 16.51it/s]\n",
      "100%|██████████| 11/11 [00:00<00:00, 17.88it/s]\n",
      "100%|██████████| 10/10 [00:00<00:00, 18.11it/s]\n",
      "100%|██████████| 9/9 [00:00<00:00, 17.89it/s]\n",
      "100%|██████████| 8/8 [00:00<00:00, 16.55it/s]\n",
      "100%|██████████| 7/7 [00:00<00:00, 18.12it/s]\n",
      "100%|██████████| 6/6 [00:00<00:00, 15.61it/s]\n",
      "100%|██████████| 5/5 [00:00<00:00, 17.35it/s]\n",
      "100%|██████████| 4/4 [00:00<00:00, 17.39it/s]\n",
      "100%|██████████| 3/3 [00:00<00:00, 16.91it/s]\n",
      "100%|██████████| 2/2 [00:00<00:00, 16.90it/s]\n",
      "100%|██████████| 1/1 [00:00<00:00, 16.54it/s]\n",
      "0it [00:00, ?it/s]\n"
     ]
    }
   ],
   "source": [
    "dist = np.zeros([len(covar), len(covar)])\n",
    "keys = list(covar.keys())\n",
    "for i in range(len(covar)):\n",
    "  for j in tqdm.tqdm(range(i + 1, len(covar))):\n",
    "    dist[i, j] = wass2(covar[keys[i]][1], covar[keys[j]][1])\n",
    "    dist[j, i] = dist[i, j]"
   ]
  },
  {
   "cell_type": "code",
   "execution_count": 7,
   "metadata": {},
   "outputs": [],
   "source": [
    "fulldist = dist"
   ]
  },
  {
   "cell_type": "markdown",
   "metadata": {},
   "source": [
    "### Persistent homology\n",
    "\n",
    "Once we have the distance matrix, we can compute a Vietoris-Rips complex for the point data cloud defined by the time series set."
   ]
  },
  {
   "cell_type": "code",
   "execution_count": 105,
   "metadata": {},
   "outputs": [],
   "source": [
    "from scipy.spatial.distance import squareform\n",
    "pdist = squareform(dist) # convert square-form distance matrix to condensed form\n",
    "f = d.fill_rips(pdist, 3, 0.3)"
   ]
  },
  {
   "cell_type": "code",
   "execution_count": 106,
   "metadata": {},
   "outputs": [],
   "source": [
    "m = d.homology_persistence(f)\n",
    "dgms = d.init_diagrams(m, f)"
   ]
  },
  {
   "cell_type": "code",
   "execution_count": 113,
   "metadata": {},
   "outputs": [
    {
     "data": {
      "image/png": "[encoded data removed]",
      "text/plain": [
       "<Figure size 432x288 with 1 Axes>"
      ]
     },
     "metadata": {
      "needs_background": "light"
     },
     "output_type": "display_data"
    }
   ],
   "source": [
    "d.plot.plot_diagram(dgms[1], show = True)"
   ]
  },
  {
   "cell_type": "code",
   "execution_count": 108,
   "metadata": {},
   "outputs": [
    {
     "data": {
      "text/plain": [
       "[Diagram with 51 points,\n",
       " Diagram with 6 points,\n",
       " Diagram with 0 points,\n",
       " Diagram with 21 points]"
      ]
     },
     "execution_count": 108,
     "metadata": {},
     "output_type": "execute_result"
    }
   ],
   "source": [
    "dgms"
   ]
  },
  {
   "cell_type": "code",
   "execution_count": null,
   "metadata": {},
   "outputs": [],
   "source": []
  }
 ],
 "metadata": {
  "kernelspec": {
   "display_name": "Python 3 (ipykernel)",
   "language": "python",
   "name": "python3"
  },
  "language_info": {
   "codemirror_mode": {
    "name": "ipython",
    "version": 3
   },
   "file_extension": ".py",
   "mimetype": "text/x-python",
   "name": "python",
   "nbconvert_exporter": "python",
   "pygments_lexer": "ipython3",
   "version": "3.11.4"
  }
 },
 "nbformat": 4,
 "nbformat_minor": 2
}
